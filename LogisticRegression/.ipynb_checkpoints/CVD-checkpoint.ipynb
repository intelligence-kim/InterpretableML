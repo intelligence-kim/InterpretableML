{
 "cells": [
  {
   "cell_type": "code",
   "execution_count": 8,
   "id": "5b87756d",
   "metadata": {},
   "outputs": [
    {
     "name": "stdout",
     "output_type": "stream",
     "text": [
      "/home/studio/바탕화면/ml/LogisticRegression/chapter_setup.py:6: DeprecationWarning: pkg_resources is deprecated as an API. See https://setuptools.pypa.io/en/latest/pkg_resources.html\r\n",
      "  import pkg_resources\r\n",
      "Traceback (most recent call last):\r\n",
      "  File \"/home/studio/바탕화면/ml/LogisticRegression/chapter_setup.py\", line 230, in <module>\r\n",
      "    main()\r\n",
      "  File \"/home/studio/바탕화면/ml/LogisticRegression/chapter_setup.py\", line 220, in main\r\n",
      "    req_packages, req_git_packages = parse_requirements_file(REQUIREMENTS_PATH)\r\n",
      "  File \"/home/studio/바탕화면/ml/LogisticRegression/chapter_setup.py\", line 97, in parse_requirements_file\r\n",
      "    with open(requirements_path, 'r', encoding=\"utf-8\") as file:\r\n",
      "FileNotFoundError: [Errno 2] No such file or directory: 'requirements.txt'\r\n"
     ]
    }
   ],
   "source": [
    "!python chapter_setup.py"
   ]
  },
  {
   "cell_type": "code",
   "execution_count": 1,
   "id": "9f01d4e1",
   "metadata": {},
   "outputs": [
    {
     "ename": "ImportError",
     "evalue": "cannot import name 'Self' from 'typing_extensions' (/home/studio/anaconda3/lib/python3.9/site-packages/typing_extensions.py)",
     "output_type": "error",
     "traceback": [
      "\u001b[0;31m---------------------------------------------------------------------------\u001b[0m",
      "\u001b[0;31mImportError\u001b[0m                               Traceback (most recent call last)",
      "\u001b[0;32m/tmp/ipykernel_15521/1756424045.py\u001b[0m in \u001b[0;36m<module>\u001b[0;34m\u001b[0m\n\u001b[1;32m      1\u001b[0m \u001b[0;32mimport\u001b[0m \u001b[0mmath\u001b[0m\u001b[0;34m\u001b[0m\u001b[0;34m\u001b[0m\u001b[0m\n\u001b[0;32m----> 2\u001b[0;31m \u001b[0;32mimport\u001b[0m \u001b[0mmachine_learning_datasets\u001b[0m \u001b[0;32mas\u001b[0m \u001b[0mmldatasets\u001b[0m\u001b[0;34m\u001b[0m\u001b[0;34m\u001b[0m\u001b[0m\n\u001b[0m\u001b[1;32m      3\u001b[0m \u001b[0;32mimport\u001b[0m \u001b[0mpandas\u001b[0m \u001b[0;32mas\u001b[0m \u001b[0mpd\u001b[0m\u001b[0;34m\u001b[0m\u001b[0;34m\u001b[0m\u001b[0m\n\u001b[1;32m      4\u001b[0m \u001b[0;32mimport\u001b[0m \u001b[0mnumpy\u001b[0m \u001b[0;32mas\u001b[0m \u001b[0mnp\u001b[0m\u001b[0;34m\u001b[0m\u001b[0;34m\u001b[0m\u001b[0m\n\u001b[1;32m      5\u001b[0m \u001b[0;32mimport\u001b[0m \u001b[0mstatsmodels\u001b[0m\u001b[0;34m.\u001b[0m\u001b[0mapi\u001b[0m \u001b[0;32mas\u001b[0m \u001b[0msm\u001b[0m\u001b[0;34m\u001b[0m\u001b[0;34m\u001b[0m\u001b[0m\n",
      "\u001b[0;32m~/anaconda3/lib/python3.9/site-packages/machine_learning_datasets/__init__.py\u001b[0m in \u001b[0;36m<module>\u001b[0;34m\u001b[0m\n\u001b[1;32m      4\u001b[0m \u001b[0;32mimport\u001b[0m \u001b[0mwarnings\u001b[0m\u001b[0;34m\u001b[0m\u001b[0;34m\u001b[0m\u001b[0m\n\u001b[1;32m      5\u001b[0m \u001b[0;32mfrom\u001b[0m \u001b[0mpathlib\u001b[0m \u001b[0;32mimport\u001b[0m \u001b[0mPath\u001b[0m\u001b[0;34m\u001b[0m\u001b[0;34m\u001b[0m\u001b[0m\n\u001b[0;32m----> 6\u001b[0;31m \u001b[0;32mfrom\u001b[0m \u001b[0;34m.\u001b[0m\u001b[0mconfig\u001b[0m \u001b[0;32mimport\u001b[0m \u001b[0minit\u001b[0m\u001b[0;34m,\u001b[0m \u001b[0mload\u001b[0m\u001b[0;34m\u001b[0m\u001b[0;34m\u001b[0m\u001b[0m\n\u001b[0m\u001b[1;32m      7\u001b[0m \u001b[0;32mfrom\u001b[0m \u001b[0;34m.\u001b[0m\u001b[0mcommon\u001b[0m \u001b[0;32mimport\u001b[0m \u001b[0mruncmd\u001b[0m\u001b[0;34m,\u001b[0m \u001b[0mplot_polar\u001b[0m\u001b[0;34m\u001b[0m\u001b[0;34m\u001b[0m\u001b[0m\n\u001b[1;32m      8\u001b[0m \u001b[0;32mfrom\u001b[0m \u001b[0;34m.\u001b[0m\u001b[0mpreprocess\u001b[0m \u001b[0;32mimport\u001b[0m \u001b[0mmake_dummies_with_limits\u001b[0m\u001b[0;34m,\u001b[0m \u001b[0mmake_dummies_from_dict\u001b[0m\u001b[0;34m,\u001b[0m \u001b[0mapply_cmap\u001b[0m\u001b[0;34m,\u001b[0m\u001b[0;31m\\\u001b[0m\u001b[0;34m\u001b[0m\u001b[0;34m\u001b[0m\u001b[0m\n",
      "\u001b[0;32m~/anaconda3/lib/python3.9/site-packages/machine_learning_datasets/config.py\u001b[0m in \u001b[0;36m<module>\u001b[0;34m\u001b[0m\n\u001b[1;32m      7\u001b[0m \u001b[0;32mfrom\u001b[0m \u001b[0mpathlib\u001b[0m \u001b[0;32mimport\u001b[0m \u001b[0mPath\u001b[0m\u001b[0;34m\u001b[0m\u001b[0;34m\u001b[0m\u001b[0m\n\u001b[1;32m      8\u001b[0m \u001b[0;32mimport\u001b[0m \u001b[0mwarnings\u001b[0m\u001b[0;34m\u001b[0m\u001b[0;34m\u001b[0m\u001b[0m\n\u001b[0;32m----> 9\u001b[0;31m \u001b[0;32mfrom\u001b[0m \u001b[0;34m.\u001b[0m\u001b[0msources\u001b[0m\u001b[0;34m.\u001b[0m\u001b[0mkaggle\u001b[0m \u001b[0;32mimport\u001b[0m \u001b[0mKaggle\u001b[0m\u001b[0;34m\u001b[0m\u001b[0;34m\u001b[0m\u001b[0m\n\u001b[0m\u001b[1;32m     10\u001b[0m \u001b[0;32mfrom\u001b[0m \u001b[0;34m.\u001b[0m\u001b[0msources\u001b[0m\u001b[0;34m.\u001b[0m\u001b[0murl\u001b[0m \u001b[0;32mimport\u001b[0m \u001b[0mURL\u001b[0m\u001b[0;34m\u001b[0m\u001b[0;34m\u001b[0m\u001b[0m\n\u001b[1;32m     11\u001b[0m \u001b[0;34m\u001b[0m\u001b[0m\n",
      "\u001b[0;32m~/anaconda3/lib/python3.9/site-packages/machine_learning_datasets/sources/kaggle.py\u001b[0m in \u001b[0;36m<module>\u001b[0;34m\u001b[0m\n\u001b[1;32m      8\u001b[0m \u001b[0;32mimport\u001b[0m \u001b[0mre\u001b[0m\u001b[0;34m\u001b[0m\u001b[0;34m\u001b[0m\u001b[0m\n\u001b[1;32m      9\u001b[0m \u001b[0;32mfrom\u001b[0m \u001b[0mzipfile\u001b[0m \u001b[0;32mimport\u001b[0m \u001b[0mZipFile\u001b[0m\u001b[0;34m\u001b[0m\u001b[0;34m\u001b[0m\u001b[0m\n\u001b[0;32m---> 10\u001b[0;31m \u001b[0;32mfrom\u001b[0m \u001b[0;34m.\u001b[0m\u001b[0;34m.\u001b[0m\u001b[0mcommon\u001b[0m \u001b[0;32mimport\u001b[0m \u001b[0mruncmd\u001b[0m\u001b[0;34m\u001b[0m\u001b[0;34m\u001b[0m\u001b[0m\n\u001b[0m\u001b[1;32m     11\u001b[0m \u001b[0;32mfrom\u001b[0m \u001b[0;34m.\u001b[0m\u001b[0msource\u001b[0m \u001b[0;32mimport\u001b[0m \u001b[0mSource\u001b[0m\u001b[0;34m\u001b[0m\u001b[0;34m\u001b[0m\u001b[0m\n\u001b[1;32m     12\u001b[0m \u001b[0;34m\u001b[0m\u001b[0m\n",
      "\u001b[0;32m~/anaconda3/lib/python3.9/site-packages/machine_learning_datasets/common.py\u001b[0m in \u001b[0;36m<module>\u001b[0;34m\u001b[0m\n\u001b[1;32m      9\u001b[0m \u001b[0;32mfrom\u001b[0m \u001b[0mmatplotlib\u001b[0m\u001b[0;34m.\u001b[0m\u001b[0mfigure\u001b[0m \u001b[0;32mimport\u001b[0m \u001b[0mFigure\u001b[0m\u001b[0;34m\u001b[0m\u001b[0;34m\u001b[0m\u001b[0m\n\u001b[1;32m     10\u001b[0m \u001b[0;32mfrom\u001b[0m \u001b[0mscipy\u001b[0m\u001b[0;34m.\u001b[0m\u001b[0msparse\u001b[0m \u001b[0;32mimport\u001b[0m \u001b[0mcsr_matrix\u001b[0m\u001b[0;34m,\u001b[0m \u001b[0mcsc_matrix\u001b[0m\u001b[0;34m\u001b[0m\u001b[0;34m\u001b[0m\u001b[0m\n\u001b[0;32m---> 11\u001b[0;31m \u001b[0;32mimport\u001b[0m \u001b[0mtorchvision\u001b[0m\u001b[0;34m\u001b[0m\u001b[0;34m\u001b[0m\u001b[0m\n\u001b[0m\u001b[1;32m     12\u001b[0m \u001b[0;34m\u001b[0m\u001b[0m\n\u001b[1;32m     13\u001b[0m ArrayLike = Union[list, tuple, np.ndarray, pd.Series,\\\n",
      "\u001b[0;32m~/anaconda3/lib/python3.9/site-packages/torchvision/__init__.py\u001b[0m in \u001b[0;36m<module>\u001b[0;34m\u001b[0m\n\u001b[1;32m      3\u001b[0m \u001b[0;32mfrom\u001b[0m \u001b[0mmodulefinder\u001b[0m \u001b[0;32mimport\u001b[0m \u001b[0mModule\u001b[0m\u001b[0;34m\u001b[0m\u001b[0;34m\u001b[0m\u001b[0m\n\u001b[1;32m      4\u001b[0m \u001b[0;34m\u001b[0m\u001b[0m\n\u001b[0;32m----> 5\u001b[0;31m \u001b[0;32mimport\u001b[0m \u001b[0mtorch\u001b[0m\u001b[0;34m\u001b[0m\u001b[0;34m\u001b[0m\u001b[0m\n\u001b[0m\u001b[1;32m      6\u001b[0m \u001b[0;32mfrom\u001b[0m \u001b[0mtorchvision\u001b[0m \u001b[0;32mimport\u001b[0m \u001b[0m_meta_registrations\u001b[0m\u001b[0;34m,\u001b[0m \u001b[0mdatasets\u001b[0m\u001b[0;34m,\u001b[0m \u001b[0mio\u001b[0m\u001b[0;34m,\u001b[0m \u001b[0mmodels\u001b[0m\u001b[0;34m,\u001b[0m \u001b[0mops\u001b[0m\u001b[0;34m,\u001b[0m \u001b[0mtransforms\u001b[0m\u001b[0;34m,\u001b[0m \u001b[0mutils\u001b[0m\u001b[0;34m\u001b[0m\u001b[0;34m\u001b[0m\u001b[0m\n\u001b[1;32m      7\u001b[0m \u001b[0;34m\u001b[0m\u001b[0m\n",
      "\u001b[0;32m~/anaconda3/lib/python3.9/site-packages/torch/__init__.py\u001b[0m in \u001b[0;36m<module>\u001b[0;34m\u001b[0m\n\u001b[1;32m   1427\u001b[0m \u001b[0;32mfrom\u001b[0m \u001b[0mtorch\u001b[0m \u001b[0;32mimport\u001b[0m \u001b[0mnn\u001b[0m \u001b[0;32mas\u001b[0m \u001b[0mnn\u001b[0m\u001b[0;34m\u001b[0m\u001b[0;34m\u001b[0m\u001b[0m\n\u001b[1;32m   1428\u001b[0m \u001b[0;32mfrom\u001b[0m \u001b[0mtorch\u001b[0m\u001b[0;34m.\u001b[0m\u001b[0msignal\u001b[0m \u001b[0;32mimport\u001b[0m \u001b[0mwindows\u001b[0m \u001b[0;32mas\u001b[0m \u001b[0mwindows\u001b[0m\u001b[0;34m\u001b[0m\u001b[0;34m\u001b[0m\u001b[0m\n\u001b[0;32m-> 1429\u001b[0;31m \u001b[0;32mfrom\u001b[0m \u001b[0mtorch\u001b[0m \u001b[0;32mimport\u001b[0m \u001b[0moptim\u001b[0m \u001b[0;32mas\u001b[0m \u001b[0moptim\u001b[0m\u001b[0;34m\u001b[0m\u001b[0;34m\u001b[0m\u001b[0m\n\u001b[0m\u001b[1;32m   1430\u001b[0m \u001b[0;32mimport\u001b[0m \u001b[0mtorch\u001b[0m\u001b[0;34m.\u001b[0m\u001b[0moptim\u001b[0m\u001b[0;34m.\u001b[0m\u001b[0m_multi_tensor\u001b[0m\u001b[0;34m\u001b[0m\u001b[0;34m\u001b[0m\u001b[0m\n\u001b[1;32m   1431\u001b[0m \u001b[0;32mfrom\u001b[0m \u001b[0mtorch\u001b[0m \u001b[0;32mimport\u001b[0m \u001b[0mmultiprocessing\u001b[0m \u001b[0;32mas\u001b[0m \u001b[0mmultiprocessing\u001b[0m\u001b[0;34m\u001b[0m\u001b[0;34m\u001b[0m\u001b[0m\n",
      "\u001b[0;32m~/anaconda3/lib/python3.9/site-packages/torch/optim/__init__.py\u001b[0m in \u001b[0;36m<module>\u001b[0;34m\u001b[0m\n\u001b[1;32m      6\u001b[0m \"\"\"\n\u001b[1;32m      7\u001b[0m \u001b[0;34m\u001b[0m\u001b[0m\n\u001b[0;32m----> 8\u001b[0;31m \u001b[0;32mfrom\u001b[0m \u001b[0;34m.\u001b[0m\u001b[0madadelta\u001b[0m \u001b[0;32mimport\u001b[0m \u001b[0mAdadelta\u001b[0m\u001b[0;34m\u001b[0m\u001b[0;34m\u001b[0m\u001b[0m\n\u001b[0m\u001b[1;32m      9\u001b[0m \u001b[0;32mfrom\u001b[0m \u001b[0;34m.\u001b[0m\u001b[0madagrad\u001b[0m \u001b[0;32mimport\u001b[0m \u001b[0mAdagrad\u001b[0m\u001b[0;34m\u001b[0m\u001b[0;34m\u001b[0m\u001b[0m\n\u001b[1;32m     10\u001b[0m \u001b[0;32mfrom\u001b[0m \u001b[0;34m.\u001b[0m\u001b[0madam\u001b[0m \u001b[0;32mimport\u001b[0m \u001b[0mAdam\u001b[0m\u001b[0;34m\u001b[0m\u001b[0;34m\u001b[0m\u001b[0m\n",
      "\u001b[0;32m~/anaconda3/lib/python3.9/site-packages/torch/optim/adadelta.py\u001b[0m in \u001b[0;36m<module>\u001b[0;34m\u001b[0m\n\u001b[1;32m      2\u001b[0m \u001b[0;32mfrom\u001b[0m \u001b[0mtorch\u001b[0m \u001b[0;32mimport\u001b[0m \u001b[0mTensor\u001b[0m\u001b[0;34m\u001b[0m\u001b[0;34m\u001b[0m\u001b[0m\n\u001b[1;32m      3\u001b[0m \u001b[0;34m\u001b[0m\u001b[0m\n\u001b[0;32m----> 4\u001b[0;31m from .optimizer import (Optimizer, _use_grad_for_differentiable, _default_to_fused_or_foreach,\n\u001b[0m\u001b[1;32m      5\u001b[0m                         _differentiable_doc, _foreach_doc, _maximize_doc)\n\u001b[1;32m      6\u001b[0m \u001b[0;32mfrom\u001b[0m \u001b[0mtyping\u001b[0m \u001b[0;32mimport\u001b[0m \u001b[0mList\u001b[0m\u001b[0;34m,\u001b[0m \u001b[0mOptional\u001b[0m\u001b[0;34m\u001b[0m\u001b[0;34m\u001b[0m\u001b[0m\n",
      "\u001b[0;32m~/anaconda3/lib/python3.9/site-packages/torch/optim/optimizer.py\u001b[0m in \u001b[0;36m<module>\u001b[0;34m\u001b[0m\n\u001b[1;32m     21\u001b[0m     \u001b[0moverload\u001b[0m\u001b[0;34m,\u001b[0m\u001b[0;34m\u001b[0m\u001b[0;34m\u001b[0m\u001b[0m\n\u001b[1;32m     22\u001b[0m )\n\u001b[0;32m---> 23\u001b[0;31m \u001b[0;32mfrom\u001b[0m \u001b[0mtyping_extensions\u001b[0m \u001b[0;32mimport\u001b[0m \u001b[0mParamSpec\u001b[0m\u001b[0;34m,\u001b[0m \u001b[0mSelf\u001b[0m\u001b[0;34m,\u001b[0m \u001b[0mTypeAlias\u001b[0m\u001b[0;34m\u001b[0m\u001b[0;34m\u001b[0m\u001b[0m\n\u001b[0m\u001b[1;32m     24\u001b[0m \u001b[0;34m\u001b[0m\u001b[0m\n\u001b[1;32m     25\u001b[0m \u001b[0;32mimport\u001b[0m \u001b[0mtorch\u001b[0m\u001b[0;34m\u001b[0m\u001b[0;34m\u001b[0m\u001b[0m\n",
      "\u001b[0;31mImportError\u001b[0m: cannot import name 'Self' from 'typing_extensions' (/home/studio/anaconda3/lib/python3.9/site-packages/typing_extensions.py)"
     ]
    }
   ],
   "source": [
    "import math\n",
    "import machine_learning_datasets as mldatasets\n",
    "import pandas as pd\n",
    "import numpy as np\n",
    "import statsmodels.api as sm\n",
    "from sklearn.model_selection import train_test_split\n",
    "import matplotlib.pyplot as plt\n",
    "import seaborn as sns"
   ]
  },
  {
   "cell_type": "code",
   "execution_count": 2,
   "id": "d6c9023b",
   "metadata": {},
   "outputs": [
    {
     "name": "stdout",
     "output_type": "stream",
     "text": [
      "Requirement already satisfied: machine-learning-datasets in /home/studio/anaconda3/lib/python3.9/site-packages (0.1.23)\n",
      "Requirement already satisfied: requests>=2.31.0 in /home/studio/anaconda3/lib/python3.9/site-packages (from machine-learning-datasets) (2.31.0)\n",
      "Requirement already satisfied: numpy<2.0.0,>=1.23.5 in /home/studio/anaconda3/lib/python3.9/site-packages (from machine-learning-datasets) (1.26.3)\n",
      "Requirement already satisfied: pandas<2.0.0,>=1.5.3 in /home/studio/anaconda3/lib/python3.9/site-packages (from machine-learning-datasets) (1.5.3)\n",
      "Requirement already satisfied: scipy<2.0.0,>=1.11.3 in /home/studio/anaconda3/lib/python3.9/site-packages (from machine-learning-datasets) (1.11.4)\n",
      "Requirement already satisfied: scikit-learn<2.0.0,>=1.2.2 in /home/studio/anaconda3/lib/python3.9/site-packages (from machine-learning-datasets) (1.3.2)\n",
      "Requirement already satisfied: torchvision<0.17.0,>=0.16.0 in /home/studio/anaconda3/lib/python3.9/site-packages (from machine-learning-datasets) (0.16.2)\n",
      "Requirement already satisfied: opencv-python<5.0.0,>=4.5.1 in /home/studio/anaconda3/lib/python3.9/site-packages (from machine-learning-datasets) (4.9.0.80)\n",
      "Requirement already satisfied: seaborn<0.13.0,>=0.12.2 in /home/studio/anaconda3/lib/python3.9/site-packages (from machine-learning-datasets) (0.12.2)\n",
      "Requirement already satisfied: matplotlib<4.0.0,>=3.7.1 in /home/studio/anaconda3/lib/python3.9/site-packages (from machine-learning-datasets) (3.8.2)\n",
      "Requirement already satisfied: pyparsing>=2.3.1 in /home/studio/anaconda3/lib/python3.9/site-packages (from matplotlib<4.0.0,>=3.7.1->machine-learning-datasets) (3.0.4)\n",
      "Requirement already satisfied: packaging>=20.0 in /home/studio/anaconda3/lib/python3.9/site-packages (from matplotlib<4.0.0,>=3.7.1->machine-learning-datasets) (21.0)\n",
      "Requirement already satisfied: python-dateutil>=2.7 in /home/studio/anaconda3/lib/python3.9/site-packages (from matplotlib<4.0.0,>=3.7.1->machine-learning-datasets) (2.8.2)\n",
      "Requirement already satisfied: fonttools>=4.22.0 in /home/studio/anaconda3/lib/python3.9/site-packages (from matplotlib<4.0.0,>=3.7.1->machine-learning-datasets) (4.25.0)\n",
      "Requirement already satisfied: kiwisolver>=1.3.1 in /home/studio/anaconda3/lib/python3.9/site-packages (from matplotlib<4.0.0,>=3.7.1->machine-learning-datasets) (1.3.1)\n",
      "Requirement already satisfied: importlib-resources>=3.2.0 in /home/studio/anaconda3/lib/python3.9/site-packages (from matplotlib<4.0.0,>=3.7.1->machine-learning-datasets) (6.1.1)\n",
      "Requirement already satisfied: pillow>=8 in /home/studio/anaconda3/lib/python3.9/site-packages (from matplotlib<4.0.0,>=3.7.1->machine-learning-datasets) (8.4.0)\n",
      "Requirement already satisfied: cycler>=0.10 in /home/studio/anaconda3/lib/python3.9/site-packages (from matplotlib<4.0.0,>=3.7.1->machine-learning-datasets) (0.10.0)\n",
      "Requirement already satisfied: contourpy>=1.0.1 in /home/studio/anaconda3/lib/python3.9/site-packages (from matplotlib<4.0.0,>=3.7.1->machine-learning-datasets) (1.2.0)\n",
      "Requirement already satisfied: six in /home/studio/anaconda3/lib/python3.9/site-packages (from cycler>=0.10->matplotlib<4.0.0,>=3.7.1->machine-learning-datasets) (1.16.0)\n",
      "Requirement already satisfied: zipp>=3.1.0 in /home/studio/anaconda3/lib/python3.9/site-packages (from importlib-resources>=3.2.0->matplotlib<4.0.0,>=3.7.1->machine-learning-datasets) (3.6.0)\n",
      "Requirement already satisfied: pytz>=2020.1 in /home/studio/anaconda3/lib/python3.9/site-packages (from pandas<2.0.0,>=1.5.3->machine-learning-datasets) (2021.3)\n",
      "Requirement already satisfied: idna<4,>=2.5 in /home/studio/anaconda3/lib/python3.9/site-packages (from requests>=2.31.0->machine-learning-datasets) (3.2)\n",
      "Requirement already satisfied: charset-normalizer<4,>=2 in /home/studio/anaconda3/lib/python3.9/site-packages (from requests>=2.31.0->machine-learning-datasets) (2.0.4)\n",
      "Requirement already satisfied: urllib3<3,>=1.21.1 in /home/studio/anaconda3/lib/python3.9/site-packages (from requests>=2.31.0->machine-learning-datasets) (1.26.7)\n",
      "Requirement already satisfied: certifi>=2017.4.17 in /home/studio/anaconda3/lib/python3.9/site-packages (from requests>=2.31.0->machine-learning-datasets) (2021.10.8)\n",
      "Requirement already satisfied: joblib>=1.1.1 in /home/studio/anaconda3/lib/python3.9/site-packages (from scikit-learn<2.0.0,>=1.2.2->machine-learning-datasets) (1.3.2)\n",
      "Requirement already satisfied: threadpoolctl>=2.0.0 in /home/studio/anaconda3/lib/python3.9/site-packages (from scikit-learn<2.0.0,>=1.2.2->machine-learning-datasets) (2.2.0)\n",
      "Requirement already satisfied: torch==2.1.2 in /home/studio/anaconda3/lib/python3.9/site-packages (from torchvision<0.17.0,>=0.16.0->machine-learning-datasets) (2.1.2)\n",
      "Requirement already satisfied: nvidia-nccl-cu12==2.18.1 in /home/studio/anaconda3/lib/python3.9/site-packages (from torch==2.1.2->torchvision<0.17.0,>=0.16.0->machine-learning-datasets) (2.18.1)\n",
      "Requirement already satisfied: nvidia-cuda-cupti-cu12==12.1.105 in /home/studio/anaconda3/lib/python3.9/site-packages (from torch==2.1.2->torchvision<0.17.0,>=0.16.0->machine-learning-datasets) (12.1.105)\n",
      "Requirement already satisfied: triton==2.1.0 in /home/studio/anaconda3/lib/python3.9/site-packages (from torch==2.1.2->torchvision<0.17.0,>=0.16.0->machine-learning-datasets) (2.1.0)\n",
      "Requirement already satisfied: nvidia-cudnn-cu12==8.9.2.26 in /home/studio/anaconda3/lib/python3.9/site-packages (from torch==2.1.2->torchvision<0.17.0,>=0.16.0->machine-learning-datasets) (8.9.2.26)\n",
      "Requirement already satisfied: nvidia-cuda-nvrtc-cu12==12.1.105 in /home/studio/anaconda3/lib/python3.9/site-packages (from torch==2.1.2->torchvision<0.17.0,>=0.16.0->machine-learning-datasets) (12.1.105)\n",
      "Requirement already satisfied: fsspec in /home/studio/anaconda3/lib/python3.9/site-packages (from torch==2.1.2->torchvision<0.17.0,>=0.16.0->machine-learning-datasets) (2021.8.1)\n",
      "Requirement already satisfied: nvidia-cuda-runtime-cu12==12.1.105 in /home/studio/anaconda3/lib/python3.9/site-packages (from torch==2.1.2->torchvision<0.17.0,>=0.16.0->machine-learning-datasets) (12.1.105)\n",
      "Requirement already satisfied: typing-extensions in /home/studio/anaconda3/lib/python3.9/site-packages (from torch==2.1.2->torchvision<0.17.0,>=0.16.0->machine-learning-datasets) (3.10.0.2)\n",
      "Requirement already satisfied: sympy in /home/studio/anaconda3/lib/python3.9/site-packages (from torch==2.1.2->torchvision<0.17.0,>=0.16.0->machine-learning-datasets) (1.9)\n",
      "Requirement already satisfied: nvidia-cublas-cu12==12.1.3.1 in /home/studio/anaconda3/lib/python3.9/site-packages (from torch==2.1.2->torchvision<0.17.0,>=0.16.0->machine-learning-datasets) (12.1.3.1)\n",
      "Requirement already satisfied: nvidia-cusolver-cu12==11.4.5.107 in /home/studio/anaconda3/lib/python3.9/site-packages (from torch==2.1.2->torchvision<0.17.0,>=0.16.0->machine-learning-datasets) (11.4.5.107)\n",
      "Requirement already satisfied: nvidia-cufft-cu12==11.0.2.54 in /home/studio/anaconda3/lib/python3.9/site-packages (from torch==2.1.2->torchvision<0.17.0,>=0.16.0->machine-learning-datasets) (11.0.2.54)\n",
      "Requirement already satisfied: nvidia-curand-cu12==10.3.2.106 in /home/studio/anaconda3/lib/python3.9/site-packages (from torch==2.1.2->torchvision<0.17.0,>=0.16.0->machine-learning-datasets) (10.3.2.106)\n",
      "Requirement already satisfied: filelock in /home/studio/anaconda3/lib/python3.9/site-packages (from torch==2.1.2->torchvision<0.17.0,>=0.16.0->machine-learning-datasets) (3.3.1)\n",
      "Requirement already satisfied: networkx in /home/studio/anaconda3/lib/python3.9/site-packages (from torch==2.1.2->torchvision<0.17.0,>=0.16.0->machine-learning-datasets) (2.6.3)\n",
      "Requirement already satisfied: nvidia-cusparse-cu12==12.1.0.106 in /home/studio/anaconda3/lib/python3.9/site-packages (from torch==2.1.2->torchvision<0.17.0,>=0.16.0->machine-learning-datasets) (12.1.0.106)\n",
      "Requirement already satisfied: jinja2 in /home/studio/anaconda3/lib/python3.9/site-packages (from torch==2.1.2->torchvision<0.17.0,>=0.16.0->machine-learning-datasets) (2.11.3)\n",
      "Requirement already satisfied: nvidia-nvtx-cu12==12.1.105 in /home/studio/anaconda3/lib/python3.9/site-packages (from torch==2.1.2->torchvision<0.17.0,>=0.16.0->machine-learning-datasets) (12.1.105)\n",
      "Requirement already satisfied: nvidia-nvjitlink-cu12 in /home/studio/anaconda3/lib/python3.9/site-packages (from nvidia-cusolver-cu12==11.4.5.107->torch==2.1.2->torchvision<0.17.0,>=0.16.0->machine-learning-datasets) (12.3.101)\n"
     ]
    },
    {
     "name": "stdout",
     "output_type": "stream",
     "text": [
      "Requirement already satisfied: MarkupSafe>=0.23 in /home/studio/anaconda3/lib/python3.9/site-packages (from jinja2->torch==2.1.2->torchvision<0.17.0,>=0.16.0->machine-learning-datasets) (1.1.1)\n",
      "Requirement already satisfied: mpmath>=0.19 in /home/studio/anaconda3/lib/python3.9/site-packages (from sympy->torch==2.1.2->torchvision<0.17.0,>=0.16.0->machine-learning-datasets) (1.2.1)\n",
      "Note: you may need to restart the kernel to use updated packages.\n"
     ]
    }
   ],
   "source": [
    "pip install machine-learning-datasets --upgrade"
   ]
  },
  {
   "cell_type": "code",
   "execution_count": null,
   "id": "cd3ea4cc",
   "metadata": {},
   "outputs": [],
   "source": []
  },
  {
   "cell_type": "code",
   "execution_count": null,
   "id": "e7295366",
   "metadata": {},
   "outputs": [],
   "source": []
  }
 ],
 "metadata": {
  "kernelspec": {
   "display_name": "Python 3 (ipykernel)",
   "language": "python",
   "name": "python3"
  },
  "language_info": {
   "codemirror_mode": {
    "name": "ipython",
    "version": 3
   },
   "file_extension": ".py",
   "mimetype": "text/x-python",
   "name": "python",
   "nbconvert_exporter": "python",
   "pygments_lexer": "ipython3",
   "version": "3.9.7"
  }
 },
 "nbformat": 4,
 "nbformat_minor": 5
}
